{
  "nbformat": 4,
  "nbformat_minor": 0,
  "metadata": {
    "colab": {
      "provenance": [],
      "gpuType": "T4"
    },
    "kernelspec": {
      "name": "python3",
      "display_name": "Python 3"
    },
    "language_info": {
      "name": "python"
    },
    "accelerator": "GPU"
  },
  "cells": [
    {
      "cell_type": "code",
      "execution_count": 1,
      "metadata": {
        "colab": {
          "base_uri": "https://localhost:8080/"
        },
        "id": "6rbRLpJ5reNh",
        "outputId": "bfceb0f7-8015-4e37-a10e-ff83a734781a"
      },
      "outputs": [
        {
          "output_type": "stream",
          "name": "stdout",
          "text": [
            "\u001b[?25l   \u001b[90m━━━━━━━━━━━━━━━━━━━━━━━━━━━━━━━━━━━━━━━━\u001b[0m \u001b[32m0.0/540.1 kB\u001b[0m \u001b[31m?\u001b[0m eta \u001b[36m-:--:--\u001b[0m\r\u001b[2K   \u001b[91m━━━━━━━━━━━━━━━━━━━━━━━━━━━━━━━━━━━━━━━\u001b[0m\u001b[90m╺\u001b[0m \u001b[32m532.5/540.1 kB\u001b[0m \u001b[31m24.5 MB/s\u001b[0m eta \u001b[36m0:00:01\u001b[0m\r\u001b[2K   \u001b[90m━━━━━━━━━━━━━━━━━━━━━━━━━━━━━━━━━━━━━━━━\u001b[0m \u001b[32m540.1/540.1 kB\u001b[0m \u001b[31m15.0 MB/s\u001b[0m eta \u001b[36m0:00:00\u001b[0m\n",
            "\u001b[?25h"
          ]
        }
      ],
      "source": [
        "!pip install -q shap"
      ]
    },
    {
      "cell_type": "code",
      "source": [
        "import pandas as pd\n",
        "from sklearn.feature_extraction.text import TfidfVectorizer\n",
        "from sklearn.linear_model import LogisticRegression\n",
        "import matplotlib.pyplot as plt\n",
        "import numpy as np\n",
        "import shap"
      ],
      "metadata": {
        "id": "4MBZR98HrkfO"
      },
      "execution_count": 2,
      "outputs": []
    },
    {
      "cell_type": "code",
      "source": [
        "# to import files from googledrive\n",
        "from google.colab import drive\n",
        "\n",
        "drive.mount('/content/gdrive/', force_remount=True)\n",
        "sample_size_dir = 'gdrive/My Drive/Sample size for NLP'"
      ],
      "metadata": {
        "colab": {
          "base_uri": "https://localhost:8080/"
        },
        "id": "EBX62qkdr2pz",
        "outputId": "ee4b0c71-4df1-4743-926d-95aabb446827"
      },
      "execution_count": 3,
      "outputs": [
        {
          "output_type": "stream",
          "name": "stdout",
          "text": [
            "Mounted at /content/gdrive/\n"
          ]
        }
      ]
    },
    {
      "cell_type": "markdown",
      "source": [
        "original\n",
        "\n",
        "53081\n",
        "\n",
        "51881\n",
        "\n",
        "42731\n",
        "\n",
        "41401\n",
        "\n",
        "25000\n",
        "\n",
        "5990\n",
        "\n",
        "5849 - different file\n",
        "\n",
        "4280\n",
        "\n",
        "4019\n",
        "\n",
        "2724\n"
      ],
      "metadata": {
        "id": "SunJeVm_CNR6"
      }
    },
    {
      "cell_type": "code",
      "source": [
        "diagnosis = 'original'\n",
        "\n",
        "#5849 had some formatting issues and blank rows, so clean verion is _JCedit"
      ],
      "metadata": {
        "id": "cFLjQH8mr4Tl"
      },
      "execution_count": 445,
      "outputs": []
    },
    {
      "cell_type": "code",
      "source": [
        "#df = pd.read_csv(sample_size_dir+'/data_jaya/'+diagnosis+'_combined_data_6000.csv')\n",
        "#df = pd.read_csv(sample_size_dir+'/data_jaya/'+diagnosis+'_combined_data_6000_JCedit.csv')\n",
        "df = pd.read_csv(sample_size_dir+'/Sample_Size_Saniya/12k_data_for_classifier.csv')\n",
        "#df = pd.read_csv(sample_size_dir+'/data_jaya/'+diagnosis+'_combined_data_1000.csv')# TO DO\n",
        "df.head(2)"
      ],
      "metadata": {
        "colab": {
          "base_uri": "https://localhost:8080/",
          "height": 112
        },
        "id": "q6UkHujfr-om",
        "outputId": "90643daa-e3a3-44f1-a9c2-27df3eb9f638"
      },
      "execution_count": 446,
      "outputs": [
        {
          "output_type": "execute_result",
          "data": {
            "text/plain": [
              "   Unnamed: 0  subject_id icd9_code gender                  dob  \\\n",
              "0           0        1738      4019      F  2090-12-20 00:00:00   \n",
              "1           1       23055      4019      F  2044-10-15 00:00:00   \n",
              "\n",
              "               ethnicity                                               text  \\\n",
              "0                  WHITE  CONDITION UPDATE\\nD: PLEASE SEE CAREVUE FOR SP...   \n",
              "1  UNKNOWN/NOT SPECIFIED  MSICU NSG ADMIT NOTE 1400-1900\\n\\n60 YO woman ...   \n",
              "\n",
              "   no_of_docs  label  \n",
              "0          48      1  \n",
              "1          50      1  "
            ],
            "text/html": [
              "\n",
              "  <div id=\"df-51fd77d7-815b-441d-b6b7-eb4051772be4\" class=\"colab-df-container\">\n",
              "    <div>\n",
              "<style scoped>\n",
              "    .dataframe tbody tr th:only-of-type {\n",
              "        vertical-align: middle;\n",
              "    }\n",
              "\n",
              "    .dataframe tbody tr th {\n",
              "        vertical-align: top;\n",
              "    }\n",
              "\n",
              "    .dataframe thead th {\n",
              "        text-align: right;\n",
              "    }\n",
              "</style>\n",
              "<table border=\"1\" class=\"dataframe\">\n",
              "  <thead>\n",
              "    <tr style=\"text-align: right;\">\n",
              "      <th></th>\n",
              "      <th>Unnamed: 0</th>\n",
              "      <th>subject_id</th>\n",
              "      <th>icd9_code</th>\n",
              "      <th>gender</th>\n",
              "      <th>dob</th>\n",
              "      <th>ethnicity</th>\n",
              "      <th>text</th>\n",
              "      <th>no_of_docs</th>\n",
              "      <th>label</th>\n",
              "    </tr>\n",
              "  </thead>\n",
              "  <tbody>\n",
              "    <tr>\n",
              "      <th>0</th>\n",
              "      <td>0</td>\n",
              "      <td>1738</td>\n",
              "      <td>4019</td>\n",
              "      <td>F</td>\n",
              "      <td>2090-12-20 00:00:00</td>\n",
              "      <td>WHITE</td>\n",
              "      <td>CONDITION UPDATE\\nD: PLEASE SEE CAREVUE FOR SP...</td>\n",
              "      <td>48</td>\n",
              "      <td>1</td>\n",
              "    </tr>\n",
              "    <tr>\n",
              "      <th>1</th>\n",
              "      <td>1</td>\n",
              "      <td>23055</td>\n",
              "      <td>4019</td>\n",
              "      <td>F</td>\n",
              "      <td>2044-10-15 00:00:00</td>\n",
              "      <td>UNKNOWN/NOT SPECIFIED</td>\n",
              "      <td>MSICU NSG ADMIT NOTE 1400-1900\\n\\n60 YO woman ...</td>\n",
              "      <td>50</td>\n",
              "      <td>1</td>\n",
              "    </tr>\n",
              "  </tbody>\n",
              "</table>\n",
              "</div>\n",
              "    <div class=\"colab-df-buttons\">\n",
              "\n",
              "  <div class=\"colab-df-container\">\n",
              "    <button class=\"colab-df-convert\" onclick=\"convertToInteractive('df-51fd77d7-815b-441d-b6b7-eb4051772be4')\"\n",
              "            title=\"Convert this dataframe to an interactive table.\"\n",
              "            style=\"display:none;\">\n",
              "\n",
              "  <svg xmlns=\"http://www.w3.org/2000/svg\" height=\"24px\" viewBox=\"0 -960 960 960\">\n",
              "    <path d=\"M120-120v-720h720v720H120Zm60-500h600v-160H180v160Zm220 220h160v-160H400v160Zm0 220h160v-160H400v160ZM180-400h160v-160H180v160Zm440 0h160v-160H620v160ZM180-180h160v-160H180v160Zm440 0h160v-160H620v160Z\"/>\n",
              "  </svg>\n",
              "    </button>\n",
              "\n",
              "  <style>\n",
              "    .colab-df-container {\n",
              "      display:flex;\n",
              "      gap: 12px;\n",
              "    }\n",
              "\n",
              "    .colab-df-convert {\n",
              "      background-color: #E8F0FE;\n",
              "      border: none;\n",
              "      border-radius: 50%;\n",
              "      cursor: pointer;\n",
              "      display: none;\n",
              "      fill: #1967D2;\n",
              "      height: 32px;\n",
              "      padding: 0 0 0 0;\n",
              "      width: 32px;\n",
              "    }\n",
              "\n",
              "    .colab-df-convert:hover {\n",
              "      background-color: #E2EBFA;\n",
              "      box-shadow: 0px 1px 2px rgba(60, 64, 67, 0.3), 0px 1px 3px 1px rgba(60, 64, 67, 0.15);\n",
              "      fill: #174EA6;\n",
              "    }\n",
              "\n",
              "    .colab-df-buttons div {\n",
              "      margin-bottom: 4px;\n",
              "    }\n",
              "\n",
              "    [theme=dark] .colab-df-convert {\n",
              "      background-color: #3B4455;\n",
              "      fill: #D2E3FC;\n",
              "    }\n",
              "\n",
              "    [theme=dark] .colab-df-convert:hover {\n",
              "      background-color: #434B5C;\n",
              "      box-shadow: 0px 1px 3px 1px rgba(0, 0, 0, 0.15);\n",
              "      filter: drop-shadow(0px 1px 2px rgba(0, 0, 0, 0.3));\n",
              "      fill: #FFFFFF;\n",
              "    }\n",
              "  </style>\n",
              "\n",
              "    <script>\n",
              "      const buttonEl =\n",
              "        document.querySelector('#df-51fd77d7-815b-441d-b6b7-eb4051772be4 button.colab-df-convert');\n",
              "      buttonEl.style.display =\n",
              "        google.colab.kernel.accessAllowed ? 'block' : 'none';\n",
              "\n",
              "      async function convertToInteractive(key) {\n",
              "        const element = document.querySelector('#df-51fd77d7-815b-441d-b6b7-eb4051772be4');\n",
              "        const dataTable =\n",
              "          await google.colab.kernel.invokeFunction('convertToInteractive',\n",
              "                                                    [key], {});\n",
              "        if (!dataTable) return;\n",
              "\n",
              "        const docLinkHtml = 'Like what you see? Visit the ' +\n",
              "          '<a target=\"_blank\" href=https://colab.research.google.com/notebooks/data_table.ipynb>data table notebook</a>'\n",
              "          + ' to learn more about interactive tables.';\n",
              "        element.innerHTML = '';\n",
              "        dataTable['output_type'] = 'display_data';\n",
              "        await google.colab.output.renderOutput(dataTable, element);\n",
              "        const docLink = document.createElement('div');\n",
              "        docLink.innerHTML = docLinkHtml;\n",
              "        element.appendChild(docLink);\n",
              "      }\n",
              "    </script>\n",
              "  </div>\n",
              "\n",
              "\n",
              "<div id=\"df-2831593f-0db5-4c16-bdee-3cc85a5dffa6\">\n",
              "  <button class=\"colab-df-quickchart\" onclick=\"quickchart('df-2831593f-0db5-4c16-bdee-3cc85a5dffa6')\"\n",
              "            title=\"Suggest charts\"\n",
              "            style=\"display:none;\">\n",
              "\n",
              "<svg xmlns=\"http://www.w3.org/2000/svg\" height=\"24px\"viewBox=\"0 0 24 24\"\n",
              "     width=\"24px\">\n",
              "    <g>\n",
              "        <path d=\"M19 3H5c-1.1 0-2 .9-2 2v14c0 1.1.9 2 2 2h14c1.1 0 2-.9 2-2V5c0-1.1-.9-2-2-2zM9 17H7v-7h2v7zm4 0h-2V7h2v10zm4 0h-2v-4h2v4z\"/>\n",
              "    </g>\n",
              "</svg>\n",
              "  </button>\n",
              "\n",
              "<style>\n",
              "  .colab-df-quickchart {\n",
              "      --bg-color: #E8F0FE;\n",
              "      --fill-color: #1967D2;\n",
              "      --hover-bg-color: #E2EBFA;\n",
              "      --hover-fill-color: #174EA6;\n",
              "      --disabled-fill-color: #AAA;\n",
              "      --disabled-bg-color: #DDD;\n",
              "  }\n",
              "\n",
              "  [theme=dark] .colab-df-quickchart {\n",
              "      --bg-color: #3B4455;\n",
              "      --fill-color: #D2E3FC;\n",
              "      --hover-bg-color: #434B5C;\n",
              "      --hover-fill-color: #FFFFFF;\n",
              "      --disabled-bg-color: #3B4455;\n",
              "      --disabled-fill-color: #666;\n",
              "  }\n",
              "\n",
              "  .colab-df-quickchart {\n",
              "    background-color: var(--bg-color);\n",
              "    border: none;\n",
              "    border-radius: 50%;\n",
              "    cursor: pointer;\n",
              "    display: none;\n",
              "    fill: var(--fill-color);\n",
              "    height: 32px;\n",
              "    padding: 0;\n",
              "    width: 32px;\n",
              "  }\n",
              "\n",
              "  .colab-df-quickchart:hover {\n",
              "    background-color: var(--hover-bg-color);\n",
              "    box-shadow: 0 1px 2px rgba(60, 64, 67, 0.3), 0 1px 3px 1px rgba(60, 64, 67, 0.15);\n",
              "    fill: var(--button-hover-fill-color);\n",
              "  }\n",
              "\n",
              "  .colab-df-quickchart-complete:disabled,\n",
              "  .colab-df-quickchart-complete:disabled:hover {\n",
              "    background-color: var(--disabled-bg-color);\n",
              "    fill: var(--disabled-fill-color);\n",
              "    box-shadow: none;\n",
              "  }\n",
              "\n",
              "  .colab-df-spinner {\n",
              "    border: 2px solid var(--fill-color);\n",
              "    border-color: transparent;\n",
              "    border-bottom-color: var(--fill-color);\n",
              "    animation:\n",
              "      spin 1s steps(1) infinite;\n",
              "  }\n",
              "\n",
              "  @keyframes spin {\n",
              "    0% {\n",
              "      border-color: transparent;\n",
              "      border-bottom-color: var(--fill-color);\n",
              "      border-left-color: var(--fill-color);\n",
              "    }\n",
              "    20% {\n",
              "      border-color: transparent;\n",
              "      border-left-color: var(--fill-color);\n",
              "      border-top-color: var(--fill-color);\n",
              "    }\n",
              "    30% {\n",
              "      border-color: transparent;\n",
              "      border-left-color: var(--fill-color);\n",
              "      border-top-color: var(--fill-color);\n",
              "      border-right-color: var(--fill-color);\n",
              "    }\n",
              "    40% {\n",
              "      border-color: transparent;\n",
              "      border-right-color: var(--fill-color);\n",
              "      border-top-color: var(--fill-color);\n",
              "    }\n",
              "    60% {\n",
              "      border-color: transparent;\n",
              "      border-right-color: var(--fill-color);\n",
              "    }\n",
              "    80% {\n",
              "      border-color: transparent;\n",
              "      border-right-color: var(--fill-color);\n",
              "      border-bottom-color: var(--fill-color);\n",
              "    }\n",
              "    90% {\n",
              "      border-color: transparent;\n",
              "      border-bottom-color: var(--fill-color);\n",
              "    }\n",
              "  }\n",
              "</style>\n",
              "\n",
              "  <script>\n",
              "    async function quickchart(key) {\n",
              "      const quickchartButtonEl =\n",
              "        document.querySelector('#' + key + ' button');\n",
              "      quickchartButtonEl.disabled = true;  // To prevent multiple clicks.\n",
              "      quickchartButtonEl.classList.add('colab-df-spinner');\n",
              "      try {\n",
              "        const charts = await google.colab.kernel.invokeFunction(\n",
              "            'suggestCharts', [key], {});\n",
              "      } catch (error) {\n",
              "        console.error('Error during call to suggestCharts:', error);\n",
              "      }\n",
              "      quickchartButtonEl.classList.remove('colab-df-spinner');\n",
              "      quickchartButtonEl.classList.add('colab-df-quickchart-complete');\n",
              "    }\n",
              "    (() => {\n",
              "      let quickchartButtonEl =\n",
              "        document.querySelector('#df-2831593f-0db5-4c16-bdee-3cc85a5dffa6 button');\n",
              "      quickchartButtonEl.style.display =\n",
              "        google.colab.kernel.accessAllowed ? 'block' : 'none';\n",
              "    })();\n",
              "  </script>\n",
              "</div>\n",
              "\n",
              "    </div>\n",
              "  </div>\n"
            ],
            "application/vnd.google.colaboratory.intrinsic+json": {
              "type": "dataframe",
              "variable_name": "df",
              "summary": "{\n  \"name\": \"df\",\n  \"rows\": 12000,\n  \"fields\": [\n    {\n      \"column\": \"Unnamed: 0\",\n      \"properties\": {\n        \"dtype\": \"number\",\n        \"std\": 3464,\n        \"min\": 0,\n        \"max\": 11999,\n        \"num_unique_values\": 12000,\n        \"samples\": [\n          1935,\n          6494,\n          1720\n        ],\n        \"semantic_type\": \"\",\n        \"description\": \"\"\n      }\n    },\n    {\n      \"column\": \"subject_id\",\n      \"properties\": {\n        \"dtype\": \"number\",\n        \"std\": 26012,\n        \"min\": 2,\n        \"max\": 99999,\n        \"num_unique_values\": 2494,\n        \"samples\": [\n          449,\n          2058,\n          2858\n        ],\n        \"semantic_type\": \"\",\n        \"description\": \"\"\n      }\n    },\n    {\n      \"column\": \"icd9_code\",\n      \"properties\": {\n        \"dtype\": \"category\",\n        \"num_unique_values\": 655,\n        \"samples\": [\n          \"2554\",\n          \"41061\",\n          \"86405\"\n        ],\n        \"semantic_type\": \"\",\n        \"description\": \"\"\n      }\n    },\n    {\n      \"column\": \"gender\",\n      \"properties\": {\n        \"dtype\": \"category\",\n        \"num_unique_values\": 2,\n        \"samples\": [\n          \"M\",\n          \"F\"\n        ],\n        \"semantic_type\": \"\",\n        \"description\": \"\"\n      }\n    },\n    {\n      \"column\": \"dob\",\n      \"properties\": {\n        \"dtype\": \"object\",\n        \"num_unique_values\": 2428,\n        \"samples\": [\n          \"2062-09-01 00:00:00\",\n          \"2107-03-07 00:00:00\"\n        ],\n        \"semantic_type\": \"\",\n        \"description\": \"\"\n      }\n    },\n    {\n      \"column\": \"ethnicity\",\n      \"properties\": {\n        \"dtype\": \"category\",\n        \"num_unique_values\": 33,\n        \"samples\": [\n          \"ASIAN - FILIPINO\",\n          \"WHITE - BRAZILIAN\"\n        ],\n        \"semantic_type\": \"\",\n        \"description\": \"\"\n      }\n    },\n    {\n      \"column\": \"text\",\n      \"properties\": {\n        \"dtype\": \"string\",\n        \"num_unique_values\": 8677,\n        \"samples\": [\n          \"Chief Complaint:  Diabetic Ketoacidosis\\n   HPI:\\n   This is a 48 year old female with past medical history significant for\\n   diabetes mellitus type 1 complicated by retinopathy and proteinuria who\\n   presents with one day of vomiting and found to be in DKA.  The patient\\n   is typically controlled on an insulin pump and reports no issues\\n   recently.  She had been in her usual state of health until this morning\\n   when she developed mild GI discomfort and began to feel progressively\\n   more nauseous over the course of the day.  Blood glucoses started in\\n   the 200's and increased to the 400's by early after noon and even\\n   higher this evening.   She also developed some nausea.  Because of her\\n   uncontrolled fingerstick glucose values she initially presented to the\\n   ED.\\n   She denies any chest pain, shortness of breath, increased cough or\\n   sputum, fevers, chills, or night sweats.  No dysuria.  No diarrhea. She\\n   does report one week of right sided chest piain worst when se lies on\\n   it.  This feels like a muscle cramp and was mild to moderate in\\n   In the ED, initial vs were: T 99.3, P 118, BP 137/53, RR 16, O2 Sat 98%\\n   on RA.  Initial blood glucose was 581 and anion gap was 34.  She\\n   received six units insulin SC and then was started on 5 units/hr\\n   insulin drip.  She also received an aspirin for chest pain and 2L of\\n   fluid for hydration.\\n   On the floor, vital signs are stable and she denies any current\\n   complaints.\\n   Allergies:\\n   Neosporin (Topical) (Silicons/Adhesive Tape)\\n   Rash; itching;\\n   Adhesive Bandage (Topical)\\n   Rash;\\n   Last dose of Antibiotics:\\n   Infusions:\\n   Insulin - Regular - 5 units/hour\\n   Other ICU medications:\\n   Other medications:\\n   Home Medication\\n   ----------------------\\n   -FLUTICASONE 50 mcg, 2 sprays each nostril daily\\n   -SIMVASTATIN 20 mg PO daily\\n   Past medical history:\\n   Family history:\\n   Social History:\\n   -Right rotator cuff surgery for impingement\\n   -Diabetes Mellitus\\n   -Diabetic retinopathy\\n   -Proteinuria\\n   -s/p tubal ligation\\n   Notable for DM, CAD, CVA,heart disease.\\n   Occupation: Unemployed\\n   Drugs: None\\n   Tobacco: None\\n   Alcohol: Drinks one night/wk\\n   Other:\\n   Review of systems:\\n   Constitutional: No(t) Fatigue, No(t) Fever, No(t) Weight loss\\n   Eyes: No(t)  Blurry vision\\n   Ear, Nose, Throat: Dry mouth\\n   Cardiovascular: No(t) Palpitations, No(t) Edema\\n   Respiratory: No(t) Cough, No(t) Dyspnea\\n   Gastrointestinal: Abdominal pain, Nausea, Emesis, No(t) Diarrhea, No(t)\\n   Constipation\\n   Genitourinary: No(t) Dysuria\\n   Endocrine: Hyperglycemia\\n   Heme / Lymph: No(t) Lymphadenopathy\\n   Neurologic: No(t) Numbness / tingling, Headache\\n   Flowsheet Data as of [**2113-10-16**] 06:28 AM\\n   Vital Signs\\n   Hemodynamic monitoring\\n   Fluid Balance\\n                                                                  24 hours\\n                                                               Since 12 AM\\n   Tmax: 37\\nC (98.6\\n   Tcurrent: 37\\nC (98.6\\n   HR: 110 (106 - 110) bpm\\n   BP: 117/53(67) {117/52(67) - 118/53(67)} mmHg\\n   RR: 11 (11 - 16) insp/min\\n   SpO2: 98%\\n   Heart rhythm: ST (Sinus Tachycardia)\\n             Total In:\\n             2,630 mL\\n   PO:\\n             TF:\\n   IVF:\\n   130 mL\\n   Blood products:\\n   Total out:\\n                                                                      0 mL\\n                                                                      0 mL\\n   Urine:\\n   NG:\\n   Stool:\\n   Drains:\\n   Balance:\\n                                                                      0 mL\\n                                                                  2,630 mL\\n   Respiratory\\n   O2 Delivery Device: None\\n   SpO2: 98%\\n   ABG: ///16/\\n   Physical Examination\\n   General Appearance: Well nourished, No acute distress, Thin\\n   Eyes / Conjunctiva: PERRL, Mucous membranes dry\\n   Head, Ears, Nose, Throat: Normocephalic\\n   Lymphatic: Cervical WNL\\n   Cardiovascular: (S1: Normal), (S2: Normal), (Murmur: Systolic)\\n   Peripheral Vascular: (Right radial pulse: Present), (Left radial pulse:\\n   Present), (Right DP pulse: Present), (Left DP pulse: Present)\\n   Respiratory / Chest: (Expansion: Symmetric), (Percussion: Resonant : ),\\n   (Breath Sounds: Clear : )\\n   Abdominal: Soft, Non-tender, Bowel sounds present, Distended\\n   Extremities: Right lower extremity edema: Absent, Left lower extremity\\n   edema: Absent\\n   Skin:  Not assessed\\n   Neurologic: Responds to: Not assessed, Movement: Not assessed, Tone:\\n   Not assessed\\n   Labs / Radiology\\n   380\\n   12.6\\n   369 mg/dL\\n   1.1 mg/dL\\n   22 mg/dL\\n   16 mEq/L\\n   108 mEq/L\\n   4.4 mEq/L\\n   138 mEq/L\\n   40.3\\n   25.1\\n        [image002.jpg]\\n                                  [**2110-1-13**]\\n                          2:33 A10/5/[**2113**]  04:03 AM\\n                                  [**2110-1-17**]\\n                         10:20 P10/5/[**2113**]  04:04 AM\\n                                  [**2110-1-18**]\\n                                   1:20 P\\n                                  [**2110-1-19**]\\n                                   11:50 P\\n                                  [**2110-1-20**]\\n                                   1:20 A\\n                                  [**2110-1-21**]\\n                                   7:20 P\\n                                  1//11/006\\n                                   1:23 P\\n                                  [**2110-2-13**]\\n                                   1:20 P\\n                                  [**2110-2-13**]\\n                                   11:20 P\\n                                  [**2110-2-13**]\\n                                   4:20 P\\n   Cr\\n                                     1.1\\n   Glucose\\n                                     353\\n                                     369\\n   Other labs: PT / PTT / INR:97/ND/<0.01, ALT / AST:21/23, Alk Phos / T\\n   Bili:147/0.6, Lactic Acid:3.5 mmol/L\\n   Fluid analysis / Other labs: Urinalysis with glucosuria and ketonuria.\\n   Otherwise unremarkable.\\n   Imaging: CXR: Normal portable CXR w/o infiltrate, effusion, or other\\n   acute pathology.\\n   ECG: ECG reveals sinus tachycardia at a rate of 119.  Normal axis and\\n   intervals.  Right bundaloid morphology slightly changed from baseline.\\n   Assessment and Plan\\n   Assessment and Plan: This is a 48 year old female presenting with DKA\\n   in the context of intransient nausea/vomiting.\\n   1) Diabetic Ketoacidosis: Most likely secondary to vomiting and poor PO\\n   intake.  Initial infectious work up unremarkable and ECG w/o signs of\\n   acute MI or cardiovascular compromise.  Gap is closing (34\\n18) and she\\n   is less acidotic.  Currently, K is stable.\\n   -Continue IV insulin until glucose<200 and gap closed\\n   -Once gap closed will give SC glargine at around half patient's basal\\n   dose (after discussing w/ [**Last Name (un) 72**])\\n   -In ICU until gap is closed\\n   -Finish cycling enzymes/FU Cultures\\n   -Next set of labs at 8:00 am\\n   2)  Dehydration: Patient appears dehydrated, likely from nause and\\n   vomiting as well as osmotic diuresis.  Continuing to replete.\\n   -Continue NS at 150 cc/hr.\\n   -Once gap is closed will start a diet.\\n   3) Elevated lactate: trending downward w/ dehydration\\n   -trend\\n   4) Leukocytosis: Patient has impressive leukocytosis but no localizing\\n   signs of infection.  CXR benigng, as is UA.  Urine culture pedning.\\n   -Follow up cultures\\n   -No empiric abx for now\\n   5) R Chest pain: Pain is positional and reproducible w/ pressure.  No\\n   exertional component and has gone on for a week.\\n   -Monitor\\n   -ROMI\\n   -APAP PRN\\n   6) PPx: SC heparin, no indication for GI PPx\\n   7) Code: FULL\\n   8) Contact: [**Name (NI) **] (husband) [**Telephone/Fax (1) 9196**]\\n   9) Dispo: ICU until gap closed\\n   ICU Care\\n   Nutrition:\\n   Glycemic Control:\\n   Lines:\\n   20 Gauge - [**2113-10-16**] 04:57 AM\\n   18 Gauge - [**2113-10-16**] 04:58 AM\\n   Prophylaxis:\\n   DVT: SQ UF Heparin\\n   Stress ulcer: Not indicated\\n   VAP:\\n   Comments:\\n   Communication: ICU consent signed Comments:\\n   Code status: Full code\\n   Disposition: ICU\\n\",\n          \"Sinus rhythm. Delayed precordial R wave progression. No previous tracing\\navailable for comparison.\\n\\n\"\n        ],\n        \"semantic_type\": \"\",\n        \"description\": \"\"\n      }\n    },\n    {\n      \"column\": \"no_of_docs\",\n      \"properties\": {\n        \"dtype\": \"number\",\n        \"std\": 12,\n        \"min\": 1,\n        \"max\": 50,\n        \"num_unique_values\": 48,\n        \"samples\": [\n          33,\n          23\n        ],\n        \"semantic_type\": \"\",\n        \"description\": \"\"\n      }\n    },\n    {\n      \"column\": \"label\",\n      \"properties\": {\n        \"dtype\": \"number\",\n        \"std\": 0,\n        \"min\": 0,\n        \"max\": 1,\n        \"num_unique_values\": 2,\n        \"samples\": [\n          0,\n          1\n        ],\n        \"semantic_type\": \"\",\n        \"description\": \"\"\n      }\n    }\n  ]\n}"
            }
          },
          "metadata": {},
          "execution_count": 446
        }
      ]
    },
    {
      "cell_type": "code",
      "source": [
        "len(df)"
      ],
      "metadata": {
        "colab": {
          "base_uri": "https://localhost:8080/"
        },
        "id": "xTf1HhGUsB1l",
        "outputId": "b9fc28d1-169c-4338-ad17-0cb1c32ae804"
      },
      "execution_count": 447,
      "outputs": [
        {
          "output_type": "execute_result",
          "data": {
            "text/plain": [
              "12000"
            ]
          },
          "metadata": {},
          "execution_count": 447
        }
      ]
    },
    {
      "cell_type": "code",
      "source": [
        "df.rename(columns={'TEXT': 'text'}, inplace=True)"
      ],
      "metadata": {
        "id": "m4dDkOVusV4b"
      },
      "execution_count": 448,
      "outputs": []
    },
    {
      "cell_type": "code",
      "source": [
        "df['label'].value_counts()"
      ],
      "metadata": {
        "colab": {
          "base_uri": "https://localhost:8080/",
          "height": 178
        },
        "id": "xAbvVXMcwxNe",
        "outputId": "d00607c4-8b13-4e7c-f195-d51488922631"
      },
      "execution_count": 449,
      "outputs": [
        {
          "output_type": "execute_result",
          "data": {
            "text/plain": [
              "label\n",
              "1    6000\n",
              "0    6000\n",
              "Name: count, dtype: int64"
            ],
            "text/html": [
              "<div>\n",
              "<style scoped>\n",
              "    .dataframe tbody tr th:only-of-type {\n",
              "        vertical-align: middle;\n",
              "    }\n",
              "\n",
              "    .dataframe tbody tr th {\n",
              "        vertical-align: top;\n",
              "    }\n",
              "\n",
              "    .dataframe thead th {\n",
              "        text-align: right;\n",
              "    }\n",
              "</style>\n",
              "<table border=\"1\" class=\"dataframe\">\n",
              "  <thead>\n",
              "    <tr style=\"text-align: right;\">\n",
              "      <th></th>\n",
              "      <th>count</th>\n",
              "    </tr>\n",
              "    <tr>\n",
              "      <th>label</th>\n",
              "      <th></th>\n",
              "    </tr>\n",
              "  </thead>\n",
              "  <tbody>\n",
              "    <tr>\n",
              "      <th>1</th>\n",
              "      <td>6000</td>\n",
              "    </tr>\n",
              "    <tr>\n",
              "      <th>0</th>\n",
              "      <td>6000</td>\n",
              "    </tr>\n",
              "  </tbody>\n",
              "</table>\n",
              "</div><br><label><b>dtype:</b> int64</label>"
            ]
          },
          "metadata": {},
          "execution_count": 449
        }
      ]
    },
    {
      "cell_type": "code",
      "source": [
        "tfidf = TfidfVectorizer(max_features=1000)\n",
        "X = tfidf.fit_transform(df['text'])\n",
        "y = df['label']"
      ],
      "metadata": {
        "id": "jBazwcHCsgD3"
      },
      "execution_count": 450,
      "outputs": []
    },
    {
      "cell_type": "code",
      "source": [
        "# using l1 lasso regularisation and liblinear solver to find optimal params for the model and is good with small datasets\n",
        "\n",
        "lasso_log_reg = LogisticRegression(penalty='l1', solver='liblinear')\n",
        "lasso_log_reg.fit(X, y)"
      ],
      "metadata": {
        "colab": {
          "base_uri": "https://localhost:8080/",
          "height": 75
        },
        "id": "KrdjSYDCsjNs",
        "outputId": "d3165575-808a-4706-a814-97d9b824012f"
      },
      "execution_count": 451,
      "outputs": [
        {
          "output_type": "execute_result",
          "data": {
            "text/plain": [
              "LogisticRegression(penalty='l1', solver='liblinear')"
            ],
            "text/html": [
              "<style>#sk-container-id-33 {color: black;}#sk-container-id-33 pre{padding: 0;}#sk-container-id-33 div.sk-toggleable {background-color: white;}#sk-container-id-33 label.sk-toggleable__label {cursor: pointer;display: block;width: 100%;margin-bottom: 0;padding: 0.3em;box-sizing: border-box;text-align: center;}#sk-container-id-33 label.sk-toggleable__label-arrow:before {content: \"▸\";float: left;margin-right: 0.25em;color: #696969;}#sk-container-id-33 label.sk-toggleable__label-arrow:hover:before {color: black;}#sk-container-id-33 div.sk-estimator:hover label.sk-toggleable__label-arrow:before {color: black;}#sk-container-id-33 div.sk-toggleable__content {max-height: 0;max-width: 0;overflow: hidden;text-align: left;background-color: #f0f8ff;}#sk-container-id-33 div.sk-toggleable__content pre {margin: 0.2em;color: black;border-radius: 0.25em;background-color: #f0f8ff;}#sk-container-id-33 input.sk-toggleable__control:checked~div.sk-toggleable__content {max-height: 200px;max-width: 100%;overflow: auto;}#sk-container-id-33 input.sk-toggleable__control:checked~label.sk-toggleable__label-arrow:before {content: \"▾\";}#sk-container-id-33 div.sk-estimator input.sk-toggleable__control:checked~label.sk-toggleable__label {background-color: #d4ebff;}#sk-container-id-33 div.sk-label input.sk-toggleable__control:checked~label.sk-toggleable__label {background-color: #d4ebff;}#sk-container-id-33 input.sk-hidden--visually {border: 0;clip: rect(1px 1px 1px 1px);clip: rect(1px, 1px, 1px, 1px);height: 1px;margin: -1px;overflow: hidden;padding: 0;position: absolute;width: 1px;}#sk-container-id-33 div.sk-estimator {font-family: monospace;background-color: #f0f8ff;border: 1px dotted black;border-radius: 0.25em;box-sizing: border-box;margin-bottom: 0.5em;}#sk-container-id-33 div.sk-estimator:hover {background-color: #d4ebff;}#sk-container-id-33 div.sk-parallel-item::after {content: \"\";width: 100%;border-bottom: 1px solid gray;flex-grow: 1;}#sk-container-id-33 div.sk-label:hover label.sk-toggleable__label {background-color: #d4ebff;}#sk-container-id-33 div.sk-serial::before {content: \"\";position: absolute;border-left: 1px solid gray;box-sizing: border-box;top: 0;bottom: 0;left: 50%;z-index: 0;}#sk-container-id-33 div.sk-serial {display: flex;flex-direction: column;align-items: center;background-color: white;padding-right: 0.2em;padding-left: 0.2em;position: relative;}#sk-container-id-33 div.sk-item {position: relative;z-index: 1;}#sk-container-id-33 div.sk-parallel {display: flex;align-items: stretch;justify-content: center;background-color: white;position: relative;}#sk-container-id-33 div.sk-item::before, #sk-container-id-33 div.sk-parallel-item::before {content: \"\";position: absolute;border-left: 1px solid gray;box-sizing: border-box;top: 0;bottom: 0;left: 50%;z-index: -1;}#sk-container-id-33 div.sk-parallel-item {display: flex;flex-direction: column;z-index: 1;position: relative;background-color: white;}#sk-container-id-33 div.sk-parallel-item:first-child::after {align-self: flex-end;width: 50%;}#sk-container-id-33 div.sk-parallel-item:last-child::after {align-self: flex-start;width: 50%;}#sk-container-id-33 div.sk-parallel-item:only-child::after {width: 0;}#sk-container-id-33 div.sk-dashed-wrapped {border: 1px dashed gray;margin: 0 0.4em 0.5em 0.4em;box-sizing: border-box;padding-bottom: 0.4em;background-color: white;}#sk-container-id-33 div.sk-label label {font-family: monospace;font-weight: bold;display: inline-block;line-height: 1.2em;}#sk-container-id-33 div.sk-label-container {text-align: center;}#sk-container-id-33 div.sk-container {/* jupyter's `normalize.less` sets `[hidden] { display: none; }` but bootstrap.min.css set `[hidden] { display: none !important; }` so we also need the `!important` here to be able to override the default hidden behavior on the sphinx rendered scikit-learn.org. See: https://github.com/scikit-learn/scikit-learn/issues/21755 */display: inline-block !important;position: relative;}#sk-container-id-33 div.sk-text-repr-fallback {display: none;}</style><div id=\"sk-container-id-33\" class=\"sk-top-container\"><div class=\"sk-text-repr-fallback\"><pre>LogisticRegression(penalty=&#x27;l1&#x27;, solver=&#x27;liblinear&#x27;)</pre><b>In a Jupyter environment, please rerun this cell to show the HTML representation or trust the notebook. <br />On GitHub, the HTML representation is unable to render, please try loading this page with nbviewer.org.</b></div><div class=\"sk-container\" hidden><div class=\"sk-item\"><div class=\"sk-estimator sk-toggleable\"><input class=\"sk-toggleable__control sk-hidden--visually\" id=\"sk-estimator-id-33\" type=\"checkbox\" checked><label for=\"sk-estimator-id-33\" class=\"sk-toggleable__label sk-toggleable__label-arrow\">LogisticRegression</label><div class=\"sk-toggleable__content\"><pre>LogisticRegression(penalty=&#x27;l1&#x27;, solver=&#x27;liblinear&#x27;)</pre></div></div></div></div></div>"
            ]
          },
          "metadata": {},
          "execution_count": 451
        }
      ]
    },
    {
      "cell_type": "markdown",
      "source": [
        "how many in middle - number of almost 0 parameters words and number of high coeff words and compare with others of same size."
      ],
      "metadata": {
        "id": "mQEhachXU2Nv"
      }
    },
    {
      "cell_type": "code",
      "source": [
        "# analyse weights\n",
        "\n",
        "coefficients = lasso_log_reg.coef_.flatten()\n",
        "\n",
        "plt.figure(figsize=(10, 6))\n",
        "plt.hist(coefficients, bins=50, edgecolor='k')\n",
        "plt.title(\"Histogram of Coefficients - \"+diagnosis)\n",
        "plt.xlabel(\"Coefficient Value\")\n",
        "plt.ylabel(\"Frequency\")\n",
        "plt.show()"
      ],
      "metadata": {
        "colab": {
          "base_uri": "https://localhost:8080/",
          "height": 564
        },
        "id": "eJQIeIHysla-",
        "outputId": "da6228a3-ce5c-408d-e028-f2ab0463c5d7"
      },
      "execution_count": 452,
      "outputs": [
        {
          "output_type": "display_data",
          "data": {
            "text/plain": [
              "<Figure size 1000x600 with 1 Axes>"
            ],
            "image/png": "[encoded data removed]"
          },
          "metadata": {}
        }
      ]
    },
    {
      "cell_type": "code",
      "source": [
        "# analyse weights with limited axis\n",
        "\n",
        "coefficients = lasso_log_reg.coef_.flatten()\n",
        "\n",
        "plt.figure(figsize=(10, 6))\n",
        "plt.hist(coefficients, bins=50, edgecolor='k')\n",
        "plt.title(\"Histogram of Coefficients - \"+diagnosis)\n",
        "plt.xlabel(\"Coefficient Value\")\n",
        "plt.ylabel(\"Frequency\")\n",
        "plt.xlim(-10, 10)  # Set the x-axis limit from -10 to 10\n",
        "plt.ylim(0, 1000)  # Set the y-axis limit from 0 to 1000\n",
        "plt.show()"
      ],
      "metadata": {
        "colab": {
          "base_uri": "https://localhost:8080/",
          "height": 564
        },
        "id": "VvQZ8ZYUs3KP",
        "outputId": "3ead6a8d-da2d-4017-a5bc-6543f3ac322a"
      },
      "execution_count": 453,
      "outputs": [
        {
          "output_type": "display_data",
          "data": {
            "text/plain": [
              "<Figure size 1000x600 with 1 Axes>"
            ],
            "image/png": "[encoded data removed]"
          },
          "metadata": {}
        }
      ]
    },
    {
      "cell_type": "code",
      "source": [
        "non_zero_coefs = np.sum(coefficients != 0)\n",
        "print(f\"Number of non-zero coefficients: {non_zero_coefs}\")"
      ],
      "metadata": {
        "colab": {
          "base_uri": "https://localhost:8080/"
        },
        "id": "GSiz6RhA_yj6",
        "outputId": "d92bc1b3-f104-4bd0-f68a-3d241d8627db"
      },
      "execution_count": 454,
      "outputs": [
        {
          "output_type": "stream",
          "name": "stdout",
          "text": [
            "Number of non-zero coefficients: 439\n"
          ]
        }
      ]
    },
    {
      "cell_type": "code",
      "source": [
        "# Number of features with high weight\n",
        "\n",
        "weights = lasso_log_reg.coef_.flatten()\n",
        "\n",
        "high_weight_threshold = 0.1  # Example threshold\n",
        "high_weight_features = np.sum(np.abs(weights) > high_weight_threshold)\n",
        "\n",
        "print(f\"Number of features with high weight: {high_weight_features}\")\n",
        "print(f\"Total number of features: {len(weights)}\")"
      ],
      "metadata": {
        "colab": {
          "base_uri": "https://localhost:8080/"
        },
        "id": "bIddAj0NHD9o",
        "outputId": "67d40752-8767-4abf-dedc-bea56eebb46a"
      },
      "execution_count": 455,
      "outputs": [
        {
          "output_type": "stream",
          "name": "stdout",
          "text": [
            "Number of features with high weight: 408\n",
            "Total number of features: 1000\n"
          ]
        }
      ]
    },
    {
      "cell_type": "markdown",
      "source": [
        "**Number of non-zero coefficients:**\n",
        "\n",
        "Original: 439\n",
        "\n",
        "53081: 184\n",
        "\n",
        "42731: 143\n",
        "\n",
        "41401: 182\n",
        "\n",
        "25000: 251\n",
        "\n",
        "5990: 188\n",
        "\n",
        "5849: 236\n",
        "\n",
        "4280: 197\n",
        "\n",
        "4019: 277\n",
        "\n",
        "2724: 214\n",
        "\n",
        "**Total Number of features:**\n",
        "\n",
        "1000 for all\n",
        "\n",
        "**Number of high weight features (over threshold of 0.1):**\n",
        "\n",
        "Original: 408\n",
        "\n",
        "53081: 167\n",
        "\n",
        "42731: 133\n",
        "\n",
        "41401: 174\n",
        "\n",
        "25000: 222\n",
        "\n",
        "5990: 170\n",
        "\n",
        "5849: 223\n",
        "\n",
        "4280: 181\n",
        "\n",
        "4019: 249\n",
        "\n",
        "2724: 195"
      ],
      "metadata": {
        "id": "QLjgV7pa_1x4"
      }
    },
    {
      "cell_type": "code",
      "source": [
        "print(X.toarray())"
      ],
      "metadata": {
        "colab": {
          "base_uri": "https://localhost:8080/"
        },
        "id": "X4geKs2k_0mp",
        "outputId": "eda9f348-fb92-40ff-bce8-01552a2e00c1"
      },
      "execution_count": 456,
      "outputs": [
        {
          "output_type": "stream",
          "name": "stdout",
          "text": [
            "[[0.         0.         0.         ... 0.         0.         0.        ]\n",
            " [0.         0.         0.         ... 0.18137114 0.         0.        ]\n",
            " [0.         0.         0.         ... 0.         0.         0.        ]\n",
            " ...\n",
            " [0.         0.         0.         ... 0.         0.         0.        ]\n",
            " [0.         0.         0.         ... 0.         0.         0.        ]\n",
            " [0.         0.         0.         ... 0.         0.         0.        ]]\n"
          ]
        }
      ]
    },
    {
      "cell_type": "code",
      "source": [
        "'''\n",
        "# SHAP - calculate the contribution of each feature to the model's prediction - this is on lasso logistic regression and not so good\n",
        "# interventional perturbation - model predictions are adjusted based on the distribution of the other features. more accurate but computationally expensive - it tries to account for the interdependencies between features\n",
        "\n",
        "explainer = shap.LinearExplainer(lasso_log_reg, X, feature_perturbation=\"interventional\")\n",
        "shap_values = explainer.shap_values(X)\n",
        "\n",
        "shap.summary_plot(shap_values, X, feature_names=vectorizer.get_feature_names_out())'''"
      ],
      "metadata": {
        "colab": {
          "base_uri": "https://localhost:8080/",
          "height": 70
        },
        "id": "_ZW78Ok3F44F",
        "outputId": "b852f1fd-3006-40cc-e6e3-952aed7edf18"
      },
      "execution_count": 457,
      "outputs": [
        {
          "output_type": "execute_result",
          "data": {
            "text/plain": [
              "'\\n# SHAP - calculate the contribution of each feature to the model\\'s prediction - this is on lasso logistic regression and not so good\\n# interventional perturbation - model predictions are adjusted based on the distribution of the other features. more accurate but computationally expensive - it tries to account for the interdependencies between features\\n\\nexplainer = shap.LinearExplainer(lasso_log_reg, X, feature_perturbation=\"interventional\")\\nshap_values = explainer.shap_values(X)\\n\\nshap.summary_plot(shap_values, X, feature_names=vectorizer.get_feature_names_out())'"
            ],
            "application/vnd.google.colaboratory.intrinsic+json": {
              "type": "string"
            }
          },
          "metadata": {},
          "execution_count": 457
        }
      ]
    },
    {
      "cell_type": "code",
      "source": [
        "feature_names = vectorizer.get_feature_names_out()\n",
        "\n",
        "print(feature_names)"
      ],
      "metadata": {
        "colab": {
          "base_uri": "https://localhost:8080/"
        },
        "id": "IP-iv8QRF40_",
        "outputId": "72c5d411-f5d6-42ec-84e5-8733661f8ce1"
      },
      "execution_count": 458,
      "outputs": [
        {
          "output_type": "stream",
          "name": "stdout",
          "text": [
            "['00' '000' '0000' ... 'zytec' 'zyvox' 'zyvoxx']\n"
          ]
        }
      ]
    },
    {
      "cell_type": "code",
      "source": [
        "from sklearn.model_selection import train_test_split\n",
        "\n",
        "df_train, df_test = train_test_split(df, test_size=0.2, random_state=0)\n",
        "\n",
        "data = pd.DataFrame({\"text\": df_train[\"text\"], \"label\": df_train[\"label\"]})"
      ],
      "metadata": {
        "id": "HtxQekDn9UNl"
      },
      "execution_count": 459,
      "outputs": []
    },
    {
      "cell_type": "code",
      "source": [
        "import transformers\n",
        "\n",
        "# load the model and tokenizer\n",
        "tokenizer = transformers.AutoTokenizer.from_pretrained(\"google-bert/bert-base-uncased\", use_fast=True)\n",
        "model = transformers.AutoModelForSequenceClassification.from_pretrained(\"google-bert/bert-base-uncased\").cuda()\n",
        "\n",
        "# build a pipeline object to do predictions\n",
        "pred = transformers.pipeline(\n",
        "    \"text-classification\",\n",
        "    model=model,\n",
        "    tokenizer=tokenizer,\n",
        "    device=0,\n",
        "    return_all_scores=True,\n",
        ")"
      ],
      "metadata": {
        "colab": {
          "base_uri": "https://localhost:8080/"
        },
        "id": "B8ICQ0gG9oDm",
        "outputId": "bee30f96-5cb1-41fb-a7bd-95715bcc4932"
      },
      "execution_count": 460,
      "outputs": [
        {
          "output_type": "stream",
          "name": "stderr",
          "text": [
            "Some weights of BertForSequenceClassification were not initialized from the model checkpoint at google-bert/bert-base-uncased and are newly initialized: ['classifier.bias', 'classifier.weight']\n",
            "You should probably TRAIN this model on a down-stream task to be able to use it for predictions and inference.\n",
            "/usr/local/lib/python3.10/dist-packages/transformers/pipelines/text_classification.py:104: UserWarning: `return_all_scores` is now deprecated,  if want a similar functionality use `top_k=None` instead of `return_all_scores=True` or `top_k=1` instead of `return_all_scores=False`.\n",
            "  warnings.warn(\n"
          ]
        }
      ]
    },
    {
      "cell_type": "code",
      "source": [
        "explainer = shap.Explainer(pred)"
      ],
      "metadata": {
        "id": "TLiEAspyGWZ-"
      },
      "execution_count": 461,
      "outputs": []
    },
    {
      "cell_type": "code",
      "source": [],
      "metadata": {
        "id": "qufaKOB095Aw"
      },
      "execution_count": 461,
      "outputs": []
    },
    {
      "cell_type": "code",
      "source": [
        "feature_names = tfidf.get_feature_names_out()\n",
        "coef_df = pd.DataFrame({'feature': feature_names, 'coefficient': coefficients})\n",
        "sorted_coef_df = coef_df.sort_values(by='coefficient', ascending=False)"
      ],
      "metadata": {
        "id": "TNkAqI36_t0f"
      },
      "execution_count": 462,
      "outputs": []
    },
    {
      "cell_type": "code",
      "source": [
        "# SHAP\n",
        "\n",
        "explainer = shap.LinearExplainer(lasso_log_reg, X, feature_perturbation=\"interventional\")\n",
        "shap_values = explainer.shap_values(X)\n",
        "\n",
        "shap.summary_plot(shap_values, features=X, feature_names=feature_names)\n"
      ],
      "metadata": {
        "colab": {
          "base_uri": "https://localhost:8080/",
          "height": 1000
        },
        "id": "NL7WVD2J94-K",
        "outputId": "c65987fb-34ed-471d-9d96-84d79236c7a6"
      },
      "execution_count": 463,
      "outputs": [
        {
          "output_type": "stream",
          "name": "stderr",
          "text": [
            "/usr/local/lib/python3.10/dist-packages/shap/explainers/_linear.py:95: FutureWarning: The feature_perturbation option is now deprecated in favor of using the appropriate masker (maskers.Independent, maskers.Partition or maskers.Impute).\n",
            "  warnings.warn(wmsg, FutureWarning)\n"
          ]
        },
        {
          "output_type": "display_data",
          "data": {
            "text/plain": [
              "<Figure size 800x950 with 2 Axes>"
            ],
            "image/png": "[encoded data removed]"
          },
          "metadata": {}
        }
      ]
    },
    {
      "cell_type": "code",
      "source": [],
      "metadata": {
        "id": "eQscsW1Z944_"
      },
      "execution_count": 463,
      "outputs": []
    },
    {
      "cell_type": "markdown",
      "source": [
        "- how many in middle - number of almost 0 parameters words and number of high coeff words and compare with others of same size."
      ],
      "metadata": {
        "id": "-gSPrSnLtDRI"
      }
    }
  ]
}